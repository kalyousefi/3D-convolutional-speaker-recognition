{
 "cells": [
  {
   "cell_type": "code",
   "execution_count": 1,
   "metadata": {},
   "outputs": [
    {
     "name": "stderr",
     "output_type": "stream",
     "text": [
      "/usr/local/lib/python3.6/dist-packages/h5py/__init__.py:36: FutureWarning: Conversion of the second argument of issubdtype from `float` to `np.floating` is deprecated. In future, it will be treated as `np.float64 == np.dtype(float).type`.\n",
      "  from ._conv import register_converters as _register_converters\n",
      "/usr/local/lib/python3.6/dist-packages/sklearn/cross_validation.py:41: DeprecationWarning: This module was deprecated in version 0.18 in favor of the model_selection module into which all the refactored classes and functions are moved. Also note that the interface of the new CV iterators are different from that of this module. This module will be removed in 0.20.\n",
      "  \"This module will be removed in 0.20.\", DeprecationWarning)\n",
      "/usr/local/lib/python3.6/dist-packages/sklearn/grid_search.py:42: DeprecationWarning: This module was deprecated in version 0.18 in favor of the model_selection module into which all the refactored classes and functions are moved. This module will be removed in 0.20.\n",
      "  DeprecationWarning)\n",
      "/usr/local/lib/python3.6/dist-packages/sklearn/learning_curve.py:22: DeprecationWarning: This module was deprecated in version 0.18 in favor of the model_selection module into which all the functions are moved. This module will be removed in 0.20\n",
      "  DeprecationWarning)\n"
     ]
    }
   ],
   "source": [
    "# Siamese Architecture for face recognition\n",
    "\n",
    "import random\n",
    "import numpy as np\n",
    "import time\n",
    "import tensorflow as tf\n",
    "import math\n",
    "import pdb\n",
    "import sys\n",
    "import scipy.io as sio\n",
    "from sklearn import *\n",
    "import matplotlib.pyplot as plt\n",
    "import os"
   ]
  },
  {
   "cell_type": "code",
   "execution_count": 2,
   "metadata": {},
   "outputs": [],
   "source": [
    "def Plot_ROC_Fn(label,distance,save_path):\n",
    "\n",
    "    fpr, tpr, thresholds = metrics.roc_curve(label, distance, pos_label=1)\n",
    "    AUC = metrics.roc_auc_score(label, distance, average='macro', sample_weight=None)\n",
    "    # AP = metrics.average_precision_score(label, -distance, average='macro', sample_weight=None)\n",
    "\n",
    "    # Calculating EER\n",
    "    intersect_x = fpr[np.abs(fpr - (1 - tpr)).argmin(0)]\n",
    "    EER = intersect_x\n",
    "    print(\"EER = \", float((\"{0:.%ie}\" % 1).format(intersect_x)))\n",
    "\n",
    "    # AUC(area under the curve) calculation\n",
    "    print(\"AUC = \", float((\"{0:.%ie}\" % 1).format(AUC)))\n",
    "\n",
    "    # # AP(average precision) calculation.\n",
    "    # # This score corresponds to the area under the precision-recall curve.\n",
    "    # print(\"AP = \", float((\"{0:.%ie}\" % 1).format(AP)))\n",
    "\n",
    "    # Plot the ROC\n",
    "    fig = plt.figure()\n",
    "    ax = fig.gca()\n",
    "    lines = plt.plot(fpr, tpr, label='ROC Curve')\n",
    "    plt.setp(lines, linewidth=2, color='r')\n",
    "    ax.set_xticks(np.arange(0, 1.1, 0.1))\n",
    "    ax.set_yticks(np.arange(0, 1.1, 0.1))\n",
    "    plt.title('ROC.jpg')\n",
    "    plt.xlabel('False Positive Rate')\n",
    "    plt.ylabel('True Positive Rate')\n",
    "\n",
    "    # # Cutting the floating number\n",
    "    # AUC = '%.2f' % AUC\n",
    "    # EER = '%.2f' % EER\n",
    "    # # AP = '%.2f' % AP\n",
    "    #\n",
    "    # # Setting text to plot\n",
    "    # # plt.text(0.5, 0.6, 'AP = ' + str(AP), fontdict=None)\n",
    "    # plt.text(0.5, 0.5, 'AUC = ' + str(AUC), fontdict=None)\n",
    "    # plt.text(0.5, 0.4, 'EER = ' + str(EER), fontdict=None)\n",
    "    plt.grid()\n",
    "    plt.show()\n",
    "    fig.savefig(save_path)"
   ]
  },
  {
   "cell_type": "code",
   "execution_count": 7,
   "metadata": {},
   "outputs": [],
   "source": [
    "def Plot_PR_Fn(label,distance,save_path):\n",
    "\n",
    "    precision, recall, thresholds = metrics.precision_recall_curve(label, distance, pos_label=1, sample_weight=None)\n",
    "    AP = metrics.average_precision_score(label, distance, average='macro', sample_weight=None)\n",
    "\n",
    "    # AP(average precision) calculation.\n",
    "    # This score corresponds to the area under the precision-recall curve.\n",
    "    print(\"AP = \", float((\"{0:.%ie}\" % 1).format(AP)))\n",
    "\n",
    "    # Plot the ROC\n",
    "    fig = plt.figure()\n",
    "    ax = fig.gca()\n",
    "    lines = plt.plot(recall, precision, label='ROC Curve')\n",
    "    plt.setp(lines, linewidth=2, color='r')\n",
    "    ax.set_xticks(np.arange(0, 1.1, 0.1))\n",
    "    ax.set_yticks(np.arange(0, 1.1, 0.1))\n",
    "    plt.title(save_path + '_' + 'PR.jpg')\n",
    "    plt.xlabel('Recall')\n",
    "    plt.ylabel('Precision')\n",
    "\n",
    "    # Cutting the floating number\n",
    "    AP = '%.2f' % AP\n",
    "\n",
    "    # Setting text to plot\n",
    "    # plt.text(0.5, 0.5, 'AP = ' + str(AP), fontdict=None)\n",
    "    plt.grid()\n",
    "    plt.show()\n",
    "    fig.savefig(save_path)"
   ]
  },
  {
   "cell_type": "code",
   "execution_count": 4,
   "metadata": {},
   "outputs": [],
   "source": [
    "def Plot_HIST_Fn(label,distance, save_path, num_bins = 50):\n",
    "\n",
    "    dissimilarity = distance[:]\n",
    "    gen_dissimilarity_original = []\n",
    "    imp_dissimilarity_original = []\n",
    "    for i in range(len(label)):\n",
    "        if label[i] == 1:\n",
    "            gen_dissimilarity_original.append(dissimilarity[i])\n",
    "        else:\n",
    "            imp_dissimilarity_original.append(dissimilarity[i])\n",
    "\n",
    "    bins = np.linspace(np.amin(distance), np.amax(distance), num_bins)\n",
    "    fig = plt.figure()\n",
    "    plt.hist(gen_dissimilarity_original, bins, alpha=0.5, facecolor='blue', normed=False, label='gen_dist_original')\n",
    "    plt.hist(imp_dissimilarity_original, bins, alpha=0.5, facecolor='red', normed=False, label='imp_dist_original')\n",
    "    plt.legend(loc='upper right')\n",
    "    plt.title('OriginalFeatures_Histogram.jpg')\n",
    "    plt.show()\n",
    "    fig.savefig(save_path)"
   ]
  },
  {
   "cell_type": "code",
   "execution_count": 5,
   "metadata": {},
   "outputs": [],
   "source": [
    "evaluation_dir = '../../results/SCORES' # Directory where checkpoints and event logs are written to.\n",
    "plot_dir = '../../results/PLOTS' # Directory where plots are saved to.\n",
    "\n",
    "# Loading necessary data.\n",
    "score = np.load(os.path.join(evaluation_dir,'score_vector.npy'))\n",
    "label = np.load(os.path.join(evaluation_dir,'target_label_vector.npy'))\n",
    "save_path_ROC = os.path.join(plot_dir,'ROC.jpg')\n",
    "save_path_PR = os.path.join(plot_dir,'PR.jpg')\n",
    "save_path_HIST = os.path.join(plot_dir,'HIST.jpg')\n",
    "\n",
    "\n",
    "# Creating the path\n",
    "if not os.path.exists(plot_dir):\n",
    "        os.makedirs(plot_dir)"
   ]
  },
  {
   "cell_type": "code",
   "execution_count": 8,
   "metadata": {},
   "outputs": [
    {
     "name": "stdout",
     "output_type": "stream",
     "text": [
      "EER =  0.62\n",
      "AUC =  0.48\n"
     ]
    },
    {
     "data": {
      "image/png": "[encoded data removed]",
      "text/plain": [
       "<Figure size 432x288 with 1 Axes>"
      ]
     },
     "metadata": {},
     "output_type": "display_data"
    },
    {
     "name": "stdout",
     "output_type": "stream",
     "text": [
      "AP =  0.36\n"
     ]
    },
    {
     "data": {
      "image/png": "[encoded data removed]",
      "text/plain": [
       "<Figure size 432x288 with 1 Axes>"
      ]
     },
     "metadata": {},
     "output_type": "display_data"
    },
    {
     "name": "stderr",
     "output_type": "stream",
     "text": [
      "/usr/local/lib/python3.6/dist-packages/matplotlib/axes/_axes.py:6462: UserWarning: The 'normed' kwarg is deprecated, and has been replaced by the 'density' kwarg.\n",
      "  warnings.warn(\"The 'normed' kwarg is deprecated, and has been \"\n"
     ]
    },
    {
     "data": {
      "image/png": "[encoded data removed]",
      "text/plain": [
       "<Figure size 432x288 with 1 Axes>"
      ]
     },
     "metadata": {},
     "output_type": "display_data"
    }
   ],
   "source": [
    "        \n",
    "Plot_ROC_Fn(label,score,save_path_ROC)\n",
    "Plot_PR_Fn(label,score,save_path_PR)\n",
    "\n",
    "\n",
    "num_bins = 50 # Number of bins for plotting histogram.\n",
    "Plot_HIST_Fn(label,score, save_path_HIST, num_bins)"
   ]
  },
  {
   "cell_type": "code",
   "execution_count": null,
   "metadata": {},
   "outputs": [],
   "source": []
  },
  {
   "cell_type": "code",
   "execution_count": null,
   "metadata": {},
   "outputs": [],
   "source": []
  }
 ],
 "metadata": {
  "kernelspec": {
   "display_name": "Python 3",
   "language": "python",
   "name": "python3"
  },
  "language_info": {
   "codemirror_mode": {
    "name": "ipython",
    "version": 3
   },
   "file_extension": ".py",
   "mimetype": "text/x-python",
   "name": "python",
   "nbconvert_exporter": "python",
   "pygments_lexer": "ipython3",
   "version": "3.6.3"
  }
 },
 "nbformat": 4,
 "nbformat_minor": 2
}
