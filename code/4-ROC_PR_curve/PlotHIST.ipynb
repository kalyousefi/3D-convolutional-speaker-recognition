{
 "cells": [
  {
   "cell_type": "code",
   "execution_count": 6,
   "metadata": {},
   "outputs": [],
   "source": [
    "# Siamese Architecture for face recognition\n",
    "\n",
    "import random\n",
    "import numpy as np\n",
    "import time\n",
    "import tensorflow as tf\n",
    "import math\n",
    "import pdb\n",
    "import sys\n",
    "import scipy.io as sio\n",
    "from sklearn import *\n",
    "import matplotlib.pyplot as plt\n",
    "import os"
   ]
  },
  {
   "cell_type": "code",
   "execution_count": 2,
   "metadata": {},
   "outputs": [],
   "source": [
    "def Plot_HIST_Fn(label,distance, save_path, num_bins = 50):\n",
    "\n",
    "    dissimilarity = distance[:]\n",
    "    gen_dissimilarity_original = []\n",
    "    imp_dissimilarity_original = []\n",
    "    for i in range(len(label)):\n",
    "        if label[i] == 1:\n",
    "            gen_dissimilarity_original.append(dissimilarity[i])\n",
    "        else:\n",
    "            imp_dissimilarity_original.append(dissimilarity[i])\n",
    "\n",
    "    bins = np.linspace(np.amin(distance), np.amax(distance), num_bins)\n",
    "    fig = plt.figure()\n",
    "    plt.hist(gen_dissimilarity_original, bins, alpha=0.5, facecolor='blue', normed=False, label='gen_dist_original')\n",
    "    plt.hist(imp_dissimilarity_original, bins, alpha=0.5, facecolor='red', normed=False, label='imp_dist_original')\n",
    "    plt.legend(loc='upper right')\n",
    "    plt.title('OriginalFeatures_Histogram.jpg')\n",
    "    plt.show()\n",
    "    fig.savefig(save_path)"
   ]
  },
  {
   "cell_type": "code",
   "execution_count": 7,
   "metadata": {},
   "outputs": [
    {
     "name": "stderr",
     "output_type": "stream",
     "text": [
      "/usr/local/lib/python3.6/dist-packages/matplotlib/axes/_axes.py:6462: UserWarning: The 'normed' kwarg is deprecated, and has been replaced by the 'density' kwarg.\n",
      "  warnings.warn(\"The 'normed' kwarg is deprecated, and has been \"\n"
     ]
    },
    {
     "data": {
      "image/png": "[encoded data removed]",
      "text/plain": [
       "<Figure size 432x288 with 1 Axes>"
      ]
     },
     "metadata": {},
     "output_type": "display_data"
    }
   ],
   "source": [
    "evaluation_dir = '../../results/SCORES' # Directory where checkpoints and event logs are written to.\n",
    "plot_dir = '../../results/PLOTS' # Directory where plots are saved to.\n",
    "num_bins = 50 # Number of bins for plotting histogram.\n",
    "\n",
    "# Loading necessary data.\n",
    "score = np.load(os.path.join(evaluation_dir,'score_vector.npy'))\n",
    "label = np.load(os.path.join(evaluation_dir,'target_label_vector.npy'))\n",
    "save_path = os.path.join(plot_dir,'Histogram.jpg')\n",
    "\n",
    "# Creating the path\n",
    "if not os.path.exists(plot_dir):\n",
    "        os.makedirs(plot_dir)\n",
    "\n",
    "Plot_HIST_Fn(label,score, save_path, num_bins)"
   ]
  },
  {
   "cell_type": "code",
   "execution_count": null,
   "metadata": {},
   "outputs": [],
   "source": []
  }
 ],
 "metadata": {
  "kernelspec": {
   "display_name": "Python 3",
   "language": "python",
   "name": "python3"
  },
  "language_info": {
   "codemirror_mode": {
    "name": "ipython",
    "version": 3
   },
   "file_extension": ".py",
   "mimetype": "text/x-python",
   "name": "python",
   "nbconvert_exporter": "python",
   "pygments_lexer": "ipython3",
   "version": "3.6.3"
  }
 },
 "nbformat": 4,
 "nbformat_minor": 2
}
