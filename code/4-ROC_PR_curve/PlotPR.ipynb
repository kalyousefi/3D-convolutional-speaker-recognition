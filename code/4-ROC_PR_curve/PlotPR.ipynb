{
 "cells": [
  {
   "cell_type": "code",
   "execution_count": 4,
   "metadata": {},
   "outputs": [],
   "source": [
    "# Siamese Architecture for face recognition\n",
    "\n",
    "import random\n",
    "import numpy as np\n",
    "import time\n",
    "import tensorflow as tf\n",
    "import math\n",
    "import pdb\n",
    "import sys\n",
    "import scipy.io as sio\n",
    "from sklearn import *\n",
    "import matplotlib.pyplot as plt\n",
    "import os"
   ]
  },
  {
   "cell_type": "code",
   "execution_count": 2,
   "metadata": {},
   "outputs": [],
   "source": [
    "def Plot_PR_Fn(label,distance,phase):\n",
    "\n",
    "    precision, recall, thresholds = metrics.precision_recall_curve(label, distance, pos_label=1, sample_weight=None)\n",
    "    AP = metrics.average_precision_score(label, distance, average='macro', sample_weight=None)\n",
    "\n",
    "    # AP(average precision) calculation.\n",
    "    # This score corresponds to the area under the precision-recall curve.\n",
    "    print(\"AP = \", float((\"{0:.%ie}\" % 1).format(AP)))\n",
    "\n",
    "    # Plot the ROC\n",
    "    fig = plt.figure()\n",
    "    ax = fig.gca()\n",
    "    lines = plt.plot(recall, precision, label='ROC Curve')\n",
    "    plt.setp(lines, linewidth=2, color='r')\n",
    "    ax.set_xticks(np.arange(0, 1.1, 0.1))\n",
    "    ax.set_yticks(np.arange(0, 1.1, 0.1))\n",
    "    plt.title(phase + '_' + 'PR.jpg')\n",
    "    plt.xlabel('Recall')\n",
    "    plt.ylabel('Precision')\n",
    "\n",
    "    # Cutting the floating number\n",
    "    AP = '%.2f' % AP\n",
    "\n",
    "    # Setting text to plot\n",
    "    # plt.text(0.5, 0.5, 'AP = ' + str(AP), fontdict=None)\n",
    "    plt.grid()\n",
    "    plt.show()\n",
    "    fig.savefig(save_path)"
   ]
  },
  {
   "cell_type": "code",
   "execution_count": 5,
   "metadata": {},
   "outputs": [
    {
     "name": "stdout",
     "output_type": "stream",
     "text": [
      "AP =  0.36\n"
     ]
    },
    {
     "data": {
      "image/png": "[encoded data removed]",
      "text/plain": [
       "<Figure size 432x288 with 1 Axes>"
      ]
     },
     "metadata": {},
     "output_type": "display_data"
    }
   ],
   "source": [
    "evaluation_dir = '../../results/SCORES' # Directory where checkpoints and event logs are written to.\n",
    "plot_dir = '../../results/PLOTS' # Directory where plots are saved to.\n",
    "\n",
    "# Loading necessary data.\n",
    "score = np.load(os.path.join(evaluation_dir,'score_vector.npy'))\n",
    "label = np.load(os.path.join(evaluation_dir,'target_label_vector.npy'))\n",
    "save_path = os.path.join(plot_dir,'PR.jpg')\n",
    "\n",
    "# Creating the path\n",
    "if not os.path.exists(plot_dir):\n",
    "        os.makedirs(plot_dir)\n",
    "\n",
    "Plot_PR_Fn(label,score,save_path)"
   ]
  },
  {
   "cell_type": "code",
   "execution_count": null,
   "metadata": {},
   "outputs": [],
   "source": []
  }
 ],
 "metadata": {
  "kernelspec": {
   "display_name": "Python 3",
   "language": "python",
   "name": "python3"
  },
  "language_info": {
   "codemirror_mode": {
    "name": "ipython",
    "version": 3
   },
   "file_extension": ".py",
   "mimetype": "text/x-python",
   "name": "python",
   "nbconvert_exporter": "python",
   "pygments_lexer": "ipython3",
   "version": "3.6.3"
  }
 },
 "nbformat": 4,
 "nbformat_minor": 2
}
